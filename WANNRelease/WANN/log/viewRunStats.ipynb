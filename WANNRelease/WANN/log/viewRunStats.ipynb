{
 "cells": [
  {
   "cell_type": "code",
   "execution_count": 1,
   "metadata": {},
   "outputs": [],
   "source": [
    "from matplotlib import pyplot as plt\n",
    "import numpy as np"
   ]
  },
  {
   "cell_type": "code",
   "execution_count": 2,
   "metadata": {
    "pycharm": {
     "name": "#%%\n"
    }
   },
   "outputs": [
    {
     "data": {
      "text/plain": [
       "'/home/nicolasipr/Documents/Programming/Self/thesis/wann/brain-tokyo-workshop/WANNRelease/WANN/log'"
      ]
     },
     "execution_count": 2,
     "metadata": {},
     "output_type": "execute_result"
    }
   ],
   "source": [
    "import os\n",
    "os.getcwd()"
   ]
  },
  {
   "cell_type": "code",
   "execution_count": 3,
   "metadata": {
    "pycharm": {
     "name": "#%%\n"
    }
   },
   "outputs": [],
   "source": [
    "# Load stats:\n",
    "\"\"\"\n",
    "# Rows: [generations]\n",
    "# Cols:\n",
    "0: evaluations (one evaluation of one individual -- may be multiple rollouts)\n",
    "1: median fitness \n",
    "2: maximum fitness\n",
    "3: top fitness (best fitness ever)\n",
    "4: peak fitness (fitness earned with best single weight value by max individual)\n",
    "5: median # of nodes in population\n",
    "6: median # of connections in population]\n",
    "\"\"\"\n",
    "stats = np.loadtxt('test_stats_aws.out', delimiter=',')\n",
    "runTime = np.loadtxt('sample_runTime.out', delimiter=',')"
   ]
  },
  {
   "cell_type": "code",
   "execution_count": 4,
   "metadata": {},
   "outputs": [
    {
     "data": {
      "image/png": "[encoded data removed]",
      "text/plain": [
       "<Figure size 120x40 with 1 Axes>"
      ]
     },
     "metadata": {},
     "output_type": "display_data"
    }
   ],
   "source": [
    "# Plot fitness progress:\n",
    "plt.figure(figsize=(12,4), dpi=10)\n",
    "plt.grid(linestyle='--', linewidth=0.1)\n",
    "# plt.plot(stats[:,1], label=\"Median Fitness\")\n",
    "# plt.plot(stats[:,2], label=\"Max Fitness\")\n",
    "# plt.plot(stats[:,3], label=\"Top Fitness\")\n",
    "# plt.plot(stats[:,4], label=\"Peak Fitness\")\n",
    "plt.plot(stats[:,5], label=\"Median Nodes Population\")\n",
    "plt.plot(stats[:,6], label=\"Median Connections in Population\")\n",
    "plt.legend()\n",
    "plt.grid(linestyle=':', linewidth=2)\n",
    "plt.xlabel('Generations')\n",
    "plt.ylabel('Fitness')\n",
    "\n",
    "# Approximate time on 8 cores\n",
    "genKey = np.array([32,128,256,384,640,896],dtype=int)\n",
    "\n",
    "for i in range(len(genKey)):\n",
    "  gen = int(genKey[i]/8)-1\n",
    "  time = runTime[gen]/3600\n",
    "  plt.annotate(str(round(time,1))+' hours', xy=(gen*8,0), xytext=(gen*8,-200),\n",
    "               arrowprops=dict(facecolor='black', shrink=0.05), horizontalalignment='center')\n",
    "\n",
    "plt.title('WANN MNIST numbers on 32 core VM')\n",
    "\n",
    "plt.savefig(fname='04_wann_run_mnist_gen_aws.png', format='png', dpi=300, quality=100)"
   ]
  },
  {
   "cell_type": "code",
   "execution_count": 5,
   "metadata": {
    "pycharm": {
     "name": "#%%\n"
    }
   },
   "outputs": [
    {
     "ename": "ImportError",
     "evalue": "No module named 'vis'",
     "output_type": "error",
     "traceback": [
      "\u001B[0;31m---------------------------------------------------------------------------\u001B[0m",
      "\u001B[0;31mImportError\u001B[0m                               Traceback (most recent call last)",
      "\u001B[0;32m<ipython-input-5-c8cbb279717a>\u001B[0m in \u001B[0;36m<module>\u001B[0;34m()\u001B[0m\n\u001B[1;32m      2\u001B[0m \u001B[0;31m# -- View Topology of Network\u001B[0m\u001B[0;34m\u001B[0m\u001B[0;34m\u001B[0m\u001B[0m\n\u001B[1;32m      3\u001B[0m \u001B[0;31m# Lighter color connections are connected to earlier layers (NOT weight strength)\u001B[0m\u001B[0;34m\u001B[0m\u001B[0;34m\u001B[0m\u001B[0m\n\u001B[0;32m----> 4\u001B[0;31m \u001B[0;32mimport\u001B[0m \u001B[0mvis\u001B[0m \u001B[0;32mas\u001B[0m \u001B[0mnv\u001B[0m\u001B[0;34m\u001B[0m\u001B[0m\n\u001B[0m\u001B[1;32m      5\u001B[0m \u001B[0mnv\u001B[0m\u001B[0;34m.\u001B[0m\u001B[0mviewInd\u001B[0m\u001B[0;34m(\u001B[0m\u001B[0;34m'log/test_best.out'\u001B[0m\u001B[0;34m,\u001B[0m\u001B[0;34m'mnist256'\u001B[0m\u001B[0;34m)\u001B[0m\u001B[0;34m\u001B[0m\u001B[0m\n",
      "\u001B[0;31mImportError\u001B[0m: No module named 'vis'"
     ]
    }
   ],
   "source": [
    "# -- View Topology of Network\n",
    "# Lighter color connections are connected to earlier layers (NOT weight strength)\n",
    "import vis as nv\n",
    "nv.viewInd('log/test_best.out','mnist256')"
   ]
  }
 ],
 "metadata": {
  "kernelspec": {
   "display_name": "Python 3",
   "language": "python",
   "name": "python3"
  },
  "language_info": {
   "codemirror_mode": {
    "name": "ipython",
    "version": 3
   },
   "file_extension": ".py",
   "mimetype": "text/x-python",
   "name": "python",
   "nbconvert_exporter": "python",
   "pygments_lexer": "ipython3",
   "version": "3.5.5"
  }
 },
 "nbformat": 4,
 "nbformat_minor": 2
}